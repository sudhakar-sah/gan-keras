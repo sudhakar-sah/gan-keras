{
 "cells": [
  {
   "cell_type": "code",
   "execution_count": 1,
   "metadata": {},
   "outputs": [
    {
     "name": "stderr",
     "output_type": "stream",
     "text": [
      "Using TensorFlow backend.\n"
     ]
    }
   ],
   "source": [
    "from __future__ import print_function\n",
    "\n",
    "import numpy as np\n",
    "\n",
    "import numpy as np\n",
    "import warnings\n",
    "\n",
    "from keras import backend as K\n",
    "from keras.utils import np_utils\n",
    "# from keras.models import *\n",
    "# from keras.layers import *\n",
    "from keras.layers.core import *\n",
    "from keras.layers.pooling import *\n",
    "\n",
    "from keras.layers.convolutional import *\n",
    "from keras.regularizers import *\n",
    "from keras.layers.normalization import *\n",
    "from keras.optimizers import *\n",
    "from keras.constraints import *\n",
    "from keras.layers.noise import *\n",
    "\n",
    "import numpy as np\n",
    "from keras.models import Model\n",
    "from keras.layers import Input, Conv2D, Dropout, Flatten, BatchNormalization, Reshape, GaussianNoise, UpSampling2D, Conv2DTranspose\n",
    "from keras.layers.advanced_activations import LeakyReLU\n",
    "from keras.layers import Activation, Dense\n",
    "from keras.optimizers import Adam\n",
    "from keras.datasets import mnist\n",
    "\n",
    "from termcolor import colored \n",
    "import random \n",
    "\n",
    "from tqdm import tqdm \n",
    "import matplotlib.pyplot as plt\n",
    "\n",
    "from IPython import display\n",
    "gln = 'glorot_normal'"
   ]
  },
  {
   "cell_type": "code",
   "execution_count": null,
   "metadata": {
    "collapsed": true
   },
   "outputs": [],
   "source": []
  },
  {
   "cell_type": "code",
   "execution_count": 2,
   "metadata": {},
   "outputs": [
    {
     "name": "stdout",
     "output_type": "stream",
     "text": [
      "Set GPU:\n",
      "This session will use GPU 0 and  0.3of the available GPU\n"
     ]
    }
   ],
   "source": [
    "import os\n",
    "\n",
    "import warnings \n",
    "\n",
    "def supress_warnings():\n",
    "\twarnings.filterwarnings(\"ignore\")\n",
    "\n",
    "\n",
    "def gpu_conf(gpu_id =0, \n",
    "\t\t\t load = 0.8):\n",
    "\tos.environ[\"CUDA_DEVICE_ORDER\"]=\"PCI_BUS_ID\"   # see issue #152\n",
    "\tos.environ[\"CUDA_VISIBLE_DEVICES\"]=str(gpu_id)\n",
    "\n",
    "\tif K._backend=='tensorflow':\n",
    "\t    print ('Set GPU:')\n",
    "\t    import tensorflow as tf\n",
    "\t    gpu_load = load\n",
    "\n",
    "\t    tf.device('/gpu:' + str(gpu_id))\n",
    "\t    gpu_options = tf.GPUOptions(per_process_gpu_memory_fraction=gpu_load)\n",
    "\t    sess = tf.Session(config=tf.ConfigProto(gpu_options=gpu_options))\n",
    "\t    #sess=tf.Session()\n",
    "\t    K.set_session(sess)\n",
    "\n",
    "\t    print (\"This session will use GPU \" + str(gpu_id) + \" and  \" + str(load) + \"of the available GPU\")\n",
    "\n",
    "\n",
    "\n",
    "\n",
    "\n",
    "gpu_conf(gpu_id=0, \n",
    "    load = 0.3)"
   ]
  },
  {
   "cell_type": "code",
   "execution_count": 3,
   "metadata": {
    "collapsed": true
   },
   "outputs": [],
   "source": [
    "# descriminator model definition \n",
    "\n",
    "def descriminator(img_dimensions):\n",
    "\n",
    "\tdropout_rate = 0.4 \n",
    "\t# height = img_dimensions[0]\n",
    "\t# width = img_dimensions[1]\n",
    "\t# channels = img_dimensions[2]\n",
    "\n",
    "\t# input_shape = (height, width, channels)\n",
    "\n",
    "\tmodel_input = Input(shape = img_dimensions.shape)\n",
    "\n",
    "\n",
    "\t#x = Conv2D(filters = 64, kernel_size = 5, strids =, padding = , data_format = , activation=, use_bias=, kernel_initializer =, bias_initialize =)\n",
    "\n",
    "\tx = Conv2D(filters = 64, kernel_size = 5, strides = 2, padding = 'same')(model_input)\n",
    "\tx = LeakyReLU(alpha=0.2)(x)\n",
    "\tx = Dropout(dropout_rate)(x)\n",
    "\n",
    "\tx = Conv2D(filters = 128, kernel_size = 5, strides = 2, padding = 'same')(x)\n",
    "\tx = LeakyReLU(alpha=0.2)(x)\n",
    "\tx = Dropout(dropout_rate)(x)\n",
    "\n",
    "\tx = Conv2D(filters = 256, kernel_size = 5, strides = 2, padding = 'same')(x)\n",
    "\tx = LeakyReLU(alpha=0.2)(x)\n",
    "\tx = Dropout(dropout_rate)(x)\n",
    "\n",
    "\tx = Conv2D(filters = 512, kernel_size = 5, strides = 2, padding = 'same')(x)\n",
    "\tx = LeakyReLU(alpha=0.2)(x)\n",
    "\tx = Dropout(dropout_rate)(x)\n",
    "\n",
    "\tx = Flatten()(x)\n",
    "\tx = Dense(2)(x)\n",
    "\tx = Activation('sigmoid')(x)\n",
    "\n",
    "\tmodel = Model(inputs=model_input, outputs=x)\n",
    "\n",
    "\treturn model\n",
    "\n",
    "\n",
    "# generator model definition \n",
    "\n",
    "def generator(g_input):\n",
    "\n",
    "\n",
    "\tdim = 7 \n",
    "\tdepth = 64 + 64 + 64 + 64\n",
    "\tinput_shape = (100,1)\n",
    "\tdropout_rate = 0.4\n",
    "\n",
    "\t\n",
    "\n",
    "\t# x = GaussianNoise(stddev = 1.0)(g_input)\n",
    "\tx = Dense(7*7*256, input_shape = input_shape, init=gln)(g_input)\n",
    "\tx = BatchNormalization(momentum = 0.9)(x)\n",
    "\tx = Activation('relu')(x)\n",
    "\tx = Reshape((dim, dim, depth))(x)\n",
    "\tx = Dropout(dropout_rate)(x)\n",
    "\n",
    "\tx = UpSampling2D()(x)\n",
    "\tx = Conv2DTranspose(filters=128, kernel_size=5, padding='same')(x)\n",
    "\tx = BatchNormalization(momentum = 0.9)(x)\n",
    "\tx = Activation('relu')(x)\n",
    "\n",
    "\tx = UpSampling2D()(x)\n",
    "\tx = Conv2DTranspose(filters=64, kernel_size=5, padding='same')(x)\n",
    "\tx = BatchNormalization(momentum = 0.9)(x)\n",
    "\tx = Activation('relu')(x)\n",
    "\n",
    "\tx = Conv2DTranspose(filters=32, kernel_size=5, padding='same')(x)\n",
    "\tx = BatchNormalization(momentum = 0.9)(x)\n",
    "\tx = Activation('relu')(x)\n",
    "\t\n",
    "\tx = Conv2DTranspose(filters=1, kernel_size=5, padding='same')(x)\n",
    "\tx = Activation('sigmoid')(x)\n",
    "\n",
    "\tmodel = Model(inputs = g_input, outputs = x)\n",
    "\n",
    "\treturn model\n",
    "\n",
    "# definition of gan model \n",
    "\n",
    "def stacked_gan(desc_model, gen_model):\n",
    "\t# freeze weights for the discriminator model for stacked training \n",
    "\tmake_trainable(desc_model, False)\n",
    "\t\t\n",
    "\tgan_input = Input(shape=[100])\n",
    "\tH = gen_model(gan_input)\n",
    "\tgan_V = desc_model(H)\n",
    "\tGAN = Model(gan_input, gan_V)\n",
    "\n",
    "\treturn GAN"
   ]
  },
  {
   "cell_type": "code",
   "execution_count": 4,
   "metadata": {
    "collapsed": true
   },
   "outputs": [],
   "source": [
    "# make model trainable or not tranable \n",
    "def make_trainable(net, val):\n",
    "\tnet.trainable = val\n",
    "\tfor l in net.layers:\n",
    "\t\tl.trainable = val"
   ]
  },
  {
   "cell_type": "code",
   "execution_count": 5,
   "metadata": {},
   "outputs": [
    {
     "name": "stdout",
     "output_type": "stream",
     "text": [
      "_________________________________________________________________\n",
      "Layer (type)                 Output Shape              Param #   \n",
      "=================================================================\n",
      "input_1 (InputLayer)         (None, 28, 28, 1)         0         \n",
      "_________________________________________________________________\n",
      "conv2d_1 (Conv2D)            (None, 14, 14, 64)        1664      \n",
      "_________________________________________________________________\n",
      "leaky_re_lu_1 (LeakyReLU)    (None, 14, 14, 64)        0         \n",
      "_________________________________________________________________\n",
      "dropout_1 (Dropout)          (None, 14, 14, 64)        0         \n",
      "_________________________________________________________________\n",
      "conv2d_2 (Conv2D)            (None, 7, 7, 128)         204928    \n",
      "_________________________________________________________________\n",
      "leaky_re_lu_2 (LeakyReLU)    (None, 7, 7, 128)         0         \n",
      "_________________________________________________________________\n",
      "dropout_2 (Dropout)          (None, 7, 7, 128)         0         \n",
      "_________________________________________________________________\n",
      "conv2d_3 (Conv2D)            (None, 4, 4, 256)         819456    \n",
      "_________________________________________________________________\n",
      "leaky_re_lu_3 (LeakyReLU)    (None, 4, 4, 256)         0         \n",
      "_________________________________________________________________\n",
      "dropout_3 (Dropout)          (None, 4, 4, 256)         0         \n",
      "_________________________________________________________________\n",
      "conv2d_4 (Conv2D)            (None, 2, 2, 512)         3277312   \n",
      "_________________________________________________________________\n",
      "leaky_re_lu_4 (LeakyReLU)    (None, 2, 2, 512)         0         \n",
      "_________________________________________________________________\n",
      "dropout_4 (Dropout)          (None, 2, 2, 512)         0         \n",
      "_________________________________________________________________\n",
      "flatten_1 (Flatten)          (None, 2048)              0         \n",
      "_________________________________________________________________\n",
      "dense_1 (Dense)              (None, 2)                 4098      \n",
      "_________________________________________________________________\n",
      "activation_1 (Activation)    (None, 2)                 0         \n",
      "=================================================================\n",
      "Total params: 4,307,458\n",
      "Trainable params: 4,307,458\n",
      "Non-trainable params: 0\n",
      "_________________________________________________________________\n"
     ]
    },
    {
     "name": "stderr",
     "output_type": "stream",
     "text": [
      "/home/sudhakar/dl/local/lib/python2.7/site-packages/ipykernel_launcher.py:55: UserWarning: Update your `Dense` call to the Keras 2 API: `Dense(12544, kernel_initializer=\"glorot_normal\", input_shape=(100, 1))`\n"
     ]
    },
    {
     "name": "stdout",
     "output_type": "stream",
     "text": [
      "_________________________________________________________________\n",
      "Layer (type)                 Output Shape              Param #   \n",
      "=================================================================\n",
      "input_2 (InputLayer)         (None, 100)               0         \n",
      "_________________________________________________________________\n",
      "dense_2 (Dense)              (None, 12544)             1266944   \n",
      "_________________________________________________________________\n",
      "batch_normalization_1 (Batch (None, 12544)             50176     \n",
      "_________________________________________________________________\n",
      "activation_2 (Activation)    (None, 12544)             0         \n",
      "_________________________________________________________________\n",
      "reshape_1 (Reshape)          (None, 7, 7, 256)         0         \n",
      "_________________________________________________________________\n",
      "dropout_5 (Dropout)          (None, 7, 7, 256)         0         \n",
      "_________________________________________________________________\n",
      "up_sampling2d_1 (UpSampling2 (None, 14, 14, 256)       0         \n",
      "_________________________________________________________________\n",
      "conv2d_transpose_1 (Conv2DTr (None, 14, 14, 128)       819328    \n",
      "_________________________________________________________________\n",
      "batch_normalization_2 (Batch (None, 14, 14, 128)       512       \n",
      "_________________________________________________________________\n",
      "activation_3 (Activation)    (None, 14, 14, 128)       0         \n",
      "_________________________________________________________________\n",
      "up_sampling2d_2 (UpSampling2 (None, 28, 28, 128)       0         \n",
      "_________________________________________________________________\n",
      "conv2d_transpose_2 (Conv2DTr (None, 28, 28, 64)        204864    \n",
      "_________________________________________________________________\n",
      "batch_normalization_3 (Batch (None, 28, 28, 64)        256       \n",
      "_________________________________________________________________\n",
      "activation_4 (Activation)    (None, 28, 28, 64)        0         \n",
      "_________________________________________________________________\n",
      "conv2d_transpose_3 (Conv2DTr (None, 28, 28, 32)        51232     \n",
      "_________________________________________________________________\n",
      "batch_normalization_4 (Batch (None, 28, 28, 32)        128       \n",
      "_________________________________________________________________\n",
      "activation_5 (Activation)    (None, 28, 28, 32)        0         \n",
      "_________________________________________________________________\n",
      "conv2d_transpose_4 (Conv2DTr (None, 28, 28, 1)         801       \n",
      "_________________________________________________________________\n",
      "activation_6 (Activation)    (None, 28, 28, 1)         0         \n",
      "=================================================================\n",
      "Total params: 2,394,241\n",
      "Trainable params: 2,368,705\n",
      "Non-trainable params: 25,536\n",
      "_________________________________________________________________\n",
      "_________________________________________________________________\n",
      "Layer (type)                 Output Shape              Param #   \n",
      "=================================================================\n",
      "input_3 (InputLayer)         (None, 100)               0         \n",
      "_________________________________________________________________\n",
      "model_2 (Model)              (None, 28, 28, 1)         2394241   \n",
      "_________________________________________________________________\n",
      "model_1 (Model)              (None, 2)                 4307458   \n",
      "=================================================================\n",
      "Total params: 6,701,699\n",
      "Trainable params: 2,368,705\n",
      "Non-trainable params: 4,332,994\n",
      "_________________________________________________________________\n"
     ]
    }
   ],
   "source": [
    "\n",
    "# initialize the descriminator model \n",
    "img_dim = np.zeros((28,28,1))\n",
    "desc_model = descriminator(img_dim)\n",
    "desc_opt = Adam(lr=1e-3)\n",
    "desc_model.compile(loss = 'categorical_crossentropy', optimizer=desc_opt)\n",
    "desc_model.summary()\n",
    "\n",
    "\n",
    "# initialze the generator model \n",
    "g_input = Input(shape=[100])\n",
    "gen_model = generator(g_input)\n",
    "gen_opt = Adam(lr=1e-4)\n",
    "gen_model.compile(loss='binary_crossentropy', optimizer=gen_opt)\n",
    "gen_model.summary()\n",
    "\n",
    "\n",
    "#initialize the gan model \n",
    "gan_model = stacked_gan(desc_model, gen_model)\n",
    "gan_model.compile(loss='categorical_crossentropy', optimizer = gen_opt)\n",
    "gan_model.summary()\t"
   ]
  },
  {
   "cell_type": "code",
   "execution_count": 6,
   "metadata": {},
   "outputs": [
    {
     "name": "stdout",
     "output_type": "stream",
     "text": [
      "\u001b[36mX_train shape: 60000\u001b[0m\n",
      "\u001b[36mX_test shape: 10000\u001b[0m\n"
     ]
    }
   ],
   "source": [
    "def mnist_data():\n",
    "\t# create mnist dataset \n",
    "\timg_rows, img_cols = 28, 28\n",
    "\t(X_train, y_train), (X_test, y_test) = mnist.load_data()\n",
    "\n",
    "\tX_train = X_train.reshape(X_train.shape[0], img_rows, img_cols, 1)\n",
    "\tX_train = X_train.astype('float32')\n",
    "\tX_test = X_test.reshape(X_test.shape[0], img_rows, img_cols, 1)\n",
    "\tX_test = X_test.astype('float32')\n",
    "\n",
    "\tX_train /= 255. \n",
    "\tX_test /= 255.\n",
    "\n",
    "\tprint (colored('X_train shape: ' + str(X_train.shape[0]), \"cyan\"))\n",
    "\tprint (colored('X_test shape: ' + str(X_test.shape[0]), \"cyan\"))\n",
    "\n",
    "\treturn X_train, y_train, X_test, y_test\n",
    "\n",
    "X_train, y_train, X_test, y_test = mnist_data()"
   ]
  },
  {
   "cell_type": "code",
   "execution_count": 7,
   "metadata": {},
   "outputs": [
    {
     "name": "stdout",
     "output_type": "stream",
     "text": [
      "Epoch 1/1\n",
      "20000/20000 [==============================] - 7s - loss: 0.0149     \n",
      "\u001b[33maccuracy of the model : 100.000000\u001b[0m\n"
     ]
    }
   ],
   "source": [
    "\n",
    "def desc_model_pretrain(desc_model, size_tr_data = 10000):\n",
    "\n",
    "\t# pretrain the discriminator model \n",
    "\tntrain = size_tr_data\n",
    "\n",
    "\ttrainidx = random.sample(range(0,X_train.shape[0]), ntrain)\n",
    "\tXT = X_train[trainidx, :,:,:]\n",
    "\n",
    "\t# pre_train discriminator network\n",
    "\n",
    "\tnoise_gen = np.random.uniform(0,1, size=[XT.shape[0], 100])\n",
    "\tgenerated_images = gen_model.predict(noise_gen)\n",
    "\n",
    "\tX = np.concatenate((XT, generated_images))\n",
    "\tn = XT.shape[0]\n",
    "\ty = np.zeros([2*n, 2])\n",
    "\n",
    "\ty[:n, 1] = 1\n",
    "\ty[n:, 0] = 1\n",
    "\n",
    "\tmake_trainable(desc_model, True)\n",
    "\tdesc_model.fit(X, y, epochs= 1, batch_size = 128)\n",
    "\n",
    "\ty_hat = desc_model.predict(X)\n",
    "\n",
    "\ty_hat_idx = np.argmax(y_hat, axis=1)\n",
    "\ty_idx = np.argmax(y, axis=1)\n",
    "\tcount = np.sum(y_idx == y_hat_idx)\n",
    "\taccuracy = count * 100 / len(y)\n",
    "\n",
    "\tprint (colored(\"accuracy of the model : %f\" %accuracy, \"yellow\"))\n",
    "\n",
    "\treturn desc_model\n",
    "\n",
    "\t\n",
    "\n",
    "# desc_model = desc_model_pretrain(desc_model)\n"
   ]
  },
  {
   "cell_type": "code",
   "execution_count": 7,
   "metadata": {
    "collapsed": true
   },
   "outputs": [],
   "source": [
    "#plotting functions - plot the log \n",
    "def plot_loss(losses):\n",
    "\tdisplay.clear_output(wait=True)\n",
    "\tdisplay.display(plt.gcf)\n",
    "\tplt.figure(figsize = (10,6))\n",
    "\tplt.plot(losses[\"d\"], label='discriminative loss')\n",
    "\tplt.plot(losses[\"g\"], label ='generative loss')\n",
    "\tplt.legend()\n",
    "\tplt.show()\n",
    "\n",
    "# plotting function - plot the output \n",
    "def plot_gen(gen_model, n_ex = 16, dim= (4,4), figsize= (10,10)):\n",
    "\n",
    "\tnoise = np.random.uniform(0,1,size = [n_ex, 100])\n",
    "\tgenerated_images = gen_model.predict(noise)\n",
    "\n",
    "\tplt.figure(figsize= figsize)\n",
    "\tfor i in range(generated_images.shape[0]):\n",
    "\t\tplt.subplot(dim[0], dim[1], i+1)\n",
    "\t\timg = generated_images[i,:,:, 0]\n",
    "\t\tplt.imshow(img)\n",
    "\t\tplt.axis('off')\n",
    "\n",
    "\tplt.tight_layout()\n",
    "\tplt.show()"
   ]
  },
  {
   "cell_type": "code",
   "execution_count": 8,
   "metadata": {},
   "outputs": [
    {
     "data": {
      "text/plain": [
       "<function matplotlib.pyplot.gcf>"
      ]
     },
     "metadata": {},
     "output_type": "display_data"
    },
    {
     "data": {
      "image/png": "[encoded data removed]",
      "text/plain": [
       "<matplotlib.figure.Figure at 0x7f438839bed0>"
      ]
     },
     "metadata": {},
     "output_type": "display_data"
    },
    {
     "data": {
      "image/png": "[encoded data removed]",
      "text/plain": [
       "<matplotlib.figure.Figure at 0x7f431c770690>"
      ]
     },
     "metadata": {},
     "output_type": "display_data"
    },
    {
     "name": "stderr",
     "output_type": "stream",
     "text": [
      "100%|██████████| 6000/6000 [15:12<00:00,  6.57it/s]\n"
     ]
    }
   ],
   "source": [
    "from tqdm import tqdm\n",
    "\n",
    "losses = {\"d\": [], \"g\": []}\n",
    "\n",
    "\n",
    "def train_for_n(gen_model , desc_model, gan_model, epochs = 5000, plt_freq = 25, batch_size = 32):\n",
    "\n",
    "\t# set up mnist dataset \n",
    "\tX_train, y_train, X_test, y_test = mnist_data()\n",
    "\t\n",
    "\ttr_size = len(X_train)\n",
    "\tte_size = len(X_test)\n",
    "\n",
    "\tfor e in tqdm(range(epochs)):\n",
    "\n",
    "\t\t# make generative images \n",
    "\n",
    "\n",
    "\t\timage_batch = X_train[np.random.randint(0,tr_size, size = batch_size)]\n",
    "\t\tnoise_gen = np.random.uniform(0,1,size = [batch_size, 100])\n",
    "\t\tgenerated_images = gen_model.predict(noise_gen)\n",
    "\n",
    "\t\tprint (\"iteration : %d\" %e)\n",
    "\n",
    "\n",
    "\t\t# train descriminator on generated images \n",
    "\t\tX = np.concatenate((image_batch, generated_images))\n",
    "\t\ty = np.zeros([2*batch_size, 2])\n",
    "\n",
    "\t\ty[:batch_size, 1] = 1\n",
    "\t\ty[batch_size:, 0] = 1\n",
    "\n",
    "\t\t#make trainable True \n",
    "\t\td_loss = desc_model.train_on_batch(X, y)\n",
    "\t\tlosses[\"d\"].append(d_loss)\n",
    "\n",
    "\t\tprint (colored(\"d_loss : %f\"  %d_loss, \"yellow\"))\n",
    "\n",
    "\t\t#train generator descriminator stack on input noise to non-generated output classs \n",
    "\n",
    "\t\tnoise_tr = np.random.uniform(0,1, size=[batch_size, 100])\n",
    "\t\ty2 = np.zeros([batch_size,2])\n",
    "\t\ty2[:,1] = 1\n",
    "\n",
    "\t\t# make trainable (descriminator False)\n",
    "\t\tg_loss = gan_model.train_on_batch(noise_tr, y2)\n",
    "\t\tlosses[\"g\"].append(g_loss)\n",
    "\n",
    "\t\tprint (colored(\"generator loss : %f\" %g_loss, \"cyan\"))\n",
    "\n",
    "\t\t# update plots \n",
    "\n",
    "\t\tif(e%plt_freq == plt_freq-1):\n",
    "\t\t\tplot_loss(losses)\n",
    "\t\t\tplot_gen(gen_model)\n",
    "\n",
    "\n",
    "\n",
    "train_for_n(gen_model, desc_model, gan_model, epochs=6000, plt_freq=25,batch_size=32)"
   ]
  },
  {
   "cell_type": "code",
   "execution_count": 39,
   "metadata": {},
   "outputs": [
    {
     "ename": "SyntaxError",
     "evalue": "invalid syntax (<ipython-input-39-896a931d68cd>, line 9)",
     "output_type": "error",
     "traceback": [
      "\u001b[0;36m  File \u001b[0;32m\"<ipython-input-39-896a931d68cd>\"\u001b[0;36m, line \u001b[0;32m9\u001b[0m\n\u001b[0;31m    print os.path.join(root, directory)\u001b[0m\n\u001b[0m           ^\u001b[0m\n\u001b[0;31mSyntaxError\u001b[0m\u001b[0;31m:\u001b[0m invalid syntax\n"
     ]
    }
   ],
   "source": [
    "path = \"/nas/sudhakar/eyeem/mobile/ssd/org/ssd_eyeem/gan/images/faces/lfw-deepfunneled/\"\n",
    "\n",
    "import os \n",
    "\n",
    "cnt = 0\n",
    "\n",
    "for root, directories, filenames in os.walk(path):\n",
    "    for directory in directories:\n",
    "        print os.path.join(root, directory) \n",
    "    for filename in filenames: \n",
    "        print (os.path.join(root,filename)) \n",
    "        img = cv2.imread(os.path.join(root,filename))\n",
    "        \n",
    "        if img is not None:\n",
    "            img1 = cv2.resize(img, (64,64))\n",
    "            cv2.imwrite(\"/nas/sudhakar/eyeem/mobile/ssd/org/ssd_eyeem/gan/images/faces/64x64/\" + filename, img1)\n",
    "            cnt +=1 \n",
    "\n",
    "    print (cnt)"
   ]
  },
  {
   "cell_type": "code",
   "execution_count": 38,
   "metadata": {},
   "outputs": [
    {
     "name": "stdout",
     "output_type": "stream",
     "text": [
      "(114, 114, 3)\n"
     ]
    }
   ],
   "source": [
    "import cv2\n",
    "\n",
    "img = cv2.imread('/nas/sudhakar/eyeem/mobile/ssd/org/ssd_eyeem/gan/images/faces/wiki_crop/99/6040799_1977-04-01_2013.jpg')\n",
    "\n",
    "print (img.shape)"
   ]
  },
  {
   "cell_type": "code",
   "execution_count": null,
   "metadata": {
    "collapsed": true
   },
   "outputs": [],
   "source": [
    "path = \"/nas/sudhakar/eyeem/mobile/ssd/org/ssd_eyeem/gan/images/faces/64x64/\"\n",
    "\n",
    "faces = {}\n",
    "for dirname, folders, filenames in os.walk(path):\n",
    "    for filename in filenames:\n",
    "        print filename\n",
    "        faces[os.path.join(\"/nas/sudhakar/eyeem/mobile/ssd/org/ssd_eyeem/gan/images/faces/64x64/\", filename)] = 0\n",
    "        \n",
    "        "
   ]
  },
  {
   "cell_type": "code",
   "execution_count": 41,
   "metadata": {},
   "outputs": [
    {
     "ename": "IOError",
     "evalue": "[Errno 20] Not a directory: '/nas/sudhakar/eyeem/mobile/ssd/org/ssd_eyeem/gan/images/faces/faces.npy/'",
     "output_type": "error",
     "traceback": [
      "\u001b[0;31m---------------------------------------------------------------------------\u001b[0m",
      "\u001b[0;31mIOError\u001b[0m                                   Traceback (most recent call last)",
      "\u001b[0;32m<ipython-input-41-68370f5afd8e>\u001b[0m in \u001b[0;36m<module>\u001b[0;34m()\u001b[0m\n\u001b[1;32m      3\u001b[0m \u001b[0mpath\u001b[0m \u001b[0;34m=\u001b[0m \u001b[0;34m\"/nas/sudhakar/eyeem/mobile/ssd/org/ssd_eyeem/gan/images/faces/faces.npy/\"\u001b[0m\u001b[0;34m\u001b[0m\u001b[0m\n\u001b[1;32m      4\u001b[0m \u001b[0;34m\u001b[0m\u001b[0m\n\u001b[0;32m----> 5\u001b[0;31m \u001b[0mfaces\u001b[0m \u001b[0;34m=\u001b[0m \u001b[0mnp\u001b[0m\u001b[0;34m.\u001b[0m\u001b[0mload\u001b[0m\u001b[0;34m(\u001b[0m\u001b[0mpath\u001b[0m\u001b[0;34m)\u001b[0m\u001b[0;34m.\u001b[0m\u001b[0mitem\u001b[0m\u001b[0;34m(\u001b[0m\u001b[0;34m)\u001b[0m\u001b[0;34m\u001b[0m\u001b[0m\n\u001b[0m\u001b[1;32m      6\u001b[0m \u001b[0;34m\u001b[0m\u001b[0m\n\u001b[1;32m      7\u001b[0m \u001b[0mX_train\u001b[0m \u001b[0;34m=\u001b[0m \u001b[0mnp\u001b[0m\u001b[0;34m.\u001b[0m\u001b[0mzeros\u001b[0m\u001b[0;34m(\u001b[0m\u001b[0;34m(\u001b[0m\u001b[0mlen\u001b[0m\u001b[0;34m(\u001b[0m\u001b[0mfaces\u001b[0m\u001b[0;34m)\u001b[0m\u001b[0;34m,\u001b[0m \u001b[0;36m64\u001b[0m\u001b[0;34m,\u001b[0m \u001b[0;36m64\u001b[0m\u001b[0;34m,\u001b[0m \u001b[0;36m3\u001b[0m\u001b[0;34m)\u001b[0m\u001b[0;34m)\u001b[0m\u001b[0;34m\u001b[0m\u001b[0m\n",
      "\u001b[0;32m/home/sudhakar/dl/local/lib/python2.7/site-packages/numpy/lib/npyio.pyc\u001b[0m in \u001b[0;36mload\u001b[0;34m(file, mmap_mode, allow_pickle, fix_imports, encoding)\u001b[0m\n\u001b[1;32m    368\u001b[0m     \u001b[0mown_fid\u001b[0m \u001b[0;34m=\u001b[0m \u001b[0mFalse\u001b[0m\u001b[0;34m\u001b[0m\u001b[0m\n\u001b[1;32m    369\u001b[0m     \u001b[0;32mif\u001b[0m \u001b[0misinstance\u001b[0m\u001b[0;34m(\u001b[0m\u001b[0mfile\u001b[0m\u001b[0;34m,\u001b[0m \u001b[0mbasestring\u001b[0m\u001b[0;34m)\u001b[0m\u001b[0;34m:\u001b[0m\u001b[0;34m\u001b[0m\u001b[0m\n\u001b[0;32m--> 370\u001b[0;31m         \u001b[0mfid\u001b[0m \u001b[0;34m=\u001b[0m \u001b[0mopen\u001b[0m\u001b[0;34m(\u001b[0m\u001b[0mfile\u001b[0m\u001b[0;34m,\u001b[0m \u001b[0;34m\"rb\"\u001b[0m\u001b[0;34m)\u001b[0m\u001b[0;34m\u001b[0m\u001b[0m\n\u001b[0m\u001b[1;32m    371\u001b[0m         \u001b[0mown_fid\u001b[0m \u001b[0;34m=\u001b[0m \u001b[0mTrue\u001b[0m\u001b[0;34m\u001b[0m\u001b[0m\n\u001b[1;32m    372\u001b[0m     \u001b[0;32melif\u001b[0m \u001b[0mis_pathlib_path\u001b[0m\u001b[0;34m(\u001b[0m\u001b[0mfile\u001b[0m\u001b[0;34m)\u001b[0m\u001b[0;34m:\u001b[0m\u001b[0;34m\u001b[0m\u001b[0m\n",
      "\u001b[0;31mIOError\u001b[0m: [Errno 20] Not a directory: '/nas/sudhakar/eyeem/mobile/ssd/org/ssd_eyeem/gan/images/faces/faces.npy/'"
     ]
    }
   ],
   "source": [
    "import numpy as np \n",
    "\n",
    "np.save(\"./faces.npy\", faces)\n",
    "\n",
    "path = \"/nas/sudhakar/eyeem/mobile/ssd/org/ssd_eyeem/gan/images/faces/faces.npy\"\n",
    "\n",
    "faces = np.load(path).item()\n",
    "\n",
    "X_train = np.zeros((len(faces), 64, 64, 3))"
   ]
  },
  {
   "cell_type": "code",
   "execution_count": null,
   "metadata": {
    "collapsed": true
   },
   "outputs": [],
   "source": []
  },
  {
   "cell_type": "code",
   "execution_count": null,
   "metadata": {
    "collapsed": true
   },
   "outputs": [],
   "source": []
  },
  {
   "cell_type": "code",
   "execution_count": null,
   "metadata": {
    "collapsed": true
   },
   "outputs": [],
   "source": []
  },
  {
   "cell_type": "code",
   "execution_count": null,
   "metadata": {
    "collapsed": true
   },
   "outputs": [],
   "source": []
  }
 ],
 "metadata": {
  "kernelspec": {
   "display_name": "Python 2",
   "language": "python",
   "name": "python2"
  },
  "language_info": {
   "codemirror_mode": {
    "name": "ipython",
    "version": 2
   },
   "file_extension": ".py",
   "mimetype": "text/x-python",
   "name": "python",
   "nbconvert_exporter": "python",
   "pygments_lexer": "ipython2",
   "version": "2.7.12"
  }
 },
 "nbformat": 4,
 "nbformat_minor": 2
}
